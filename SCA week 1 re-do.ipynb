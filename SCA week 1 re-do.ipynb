{
 "cells": [
  {
   "cell_type": "code",
   "execution_count": null,
   "metadata": {},
   "outputs": [],
   "source": [
    "#password genrate\n",
    "import random\n",
    "characters ='abcdefghijklmnopqrstuvwxyzABDCDEFGHIJKLMNOPQRSTUVWXYZ1234567890!@#$%^&*<>?/'\n",
    "number = input('how many many letters,numbers you want =')\n",
    "number =int(number)\n",
    "\n",
    "length = input('How long you want your password? =')\n",
    "length = int(length)\n",
    "for p in range(number):\n",
    "    while length < 6:\n",
    "        print('Please use a length of password greater than 6')\n",
    "    break\n",
    "password = ''\n",
    "for c in range(length):\n",
    "    password    = random.choice(characters)\n",
    "    print(password)"
   ]
  },
  {
   "cell_type": "code",
   "execution_count": null,
   "metadata": {},
   "outputs": [],
   "source": []
  }
 ],
 "metadata": {
  "kernelspec": {
   "display_name": "Python 3",
   "language": "python",
   "name": "python3"
  },
  "language_info": {
   "codemirror_mode": {
    "name": "ipython",
    "version": 3
   },
   "file_extension": ".py",
   "mimetype": "text/x-python",
   "name": "python",
   "nbconvert_exporter": "python",
   "pygments_lexer": "ipython3",
   "version": "3.7.6"
  }
 },
 "nbformat": 4,
 "nbformat_minor": 4
}
